{
 "cells": [
  {
   "cell_type": "markdown",
   "id": "f3b55974-7602-46a5-b9c5-c297a093693e",
   "metadata": {},
   "source": [
    "# Data Science Tools and Ecosystem"
   ]
  },
  {
   "cell_type": "markdown",
   "id": "a19fa112-8c89-4af5-8433-ecfc871153bf",
   "metadata": {},
   "source": [
    "In this notebook, Data Science Tools and Ecosystem are summarized."
   ]
  },
  {
   "cell_type": "markdown",
   "id": "fb7ca1f5-1c47-4203-8630-a908c73b4272",
   "metadata": {},
   "source": [
    "Some of the popular languages that Data Scientists use are:\n",
    "1. Python\n",
    "2. Julia\n",
    "3. R"
   ]
  },
  {
   "cell_type": "markdown",
   "id": "6c1749f4-ca72-4a92-9d88-9e6721d12930",
   "metadata": {},
   "source": [
    "## Data Science Tools|\n",
    ":-----:\n",
    "Jupyter Notebook\n",
    "VS Code\n",
    "IDLE"
   ]
  },
  {
   "cell_type": "markdown",
   "id": "5c6d5ed1-3fd7-4e25-abaa-96a088e804e7",
   "metadata": {},
   "source": [
    "**Objectives:**\n",
    "1. List popular languages for Data Science\n",
    "2. List data science tools\n",
    "3. List data science libraries"
   ]
  },
  {
   "cell_type": "markdown",
   "id": "650f7248-27ce-4008-81f3-feeac4c5de41",
   "metadata": {},
   "source": [
    "Some of the commonly used libraries used by Data Scientists include:\n",
    "1. Numpy\n",
    "2. Pandas\n",
    "3. Scikit-learn"
   ]
  },
  {
   "cell_type": "markdown",
   "id": "2c9cb190-00e6-48c7-a404-405d95a50305",
   "metadata": {},
   "source": [
    "### Below are a few examples of evaluating arithmetic expressions in Python"
   ]
  },
  {
   "cell_type": "code",
   "execution_count": 2,
   "id": "b3e3d31b-47f6-413b-bdab-6ab3e408af0c",
   "metadata": {},
   "outputs": [
    {
     "data": {
      "text/plain": [
       "17"
      ]
     },
     "execution_count": 2,
     "metadata": {},
     "output_type": "execute_result"
    }
   ],
   "source": [
    "# This is a simple arithmetic expression to mutiply then add integers\n",
    "(3*4)+5"
   ]
  },
  {
   "cell_type": "code",
   "execution_count": 3,
   "id": "a692fd78-cf97-468f-ba8c-19a98ab5f7dc",
   "metadata": {},
   "outputs": [
    {
     "data": {
      "text/plain": [
       "3.3333333333333335"
      ]
     },
     "execution_count": 3,
     "metadata": {},
     "output_type": "execute_result"
    }
   ],
   "source": [
    "# This will convert 200 minutes to hours by diving by 60\n",
    "200/60"
   ]
  },
  {
   "cell_type": "markdown",
   "id": "3531c0af-7133-41e9-b8a7-03d47ca07cf4",
   "metadata": {},
   "source": [
    "## Author\n",
    "Danny Rechitsky"
   ]
  },
  {
   "cell_type": "markdown",
   "id": "bde9bf5c-853e-4854-b565-d1a63b6a4a94",
   "metadata": {},
   "source": []
  }
 ],
 "metadata": {
  "kernelspec": {
   "display_name": "Python 3 (ipykernel)",
   "language": "python",
   "name": "python3"
  },
  "language_info": {
   "codemirror_mode": {
    "name": "ipython",
    "version": 3
   },
   "file_extension": ".py",
   "mimetype": "text/x-python",
   "name": "python",
   "nbconvert_exporter": "python",
   "pygments_lexer": "ipython3",
   "version": "3.11.5"
  }
 },
 "nbformat": 4,
 "nbformat_minor": 5
}
